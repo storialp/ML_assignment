{
 "cells": [
  {
   "cell_type": "code",
   "execution_count": 1,
   "id": "49954119",
   "metadata": {},
   "outputs": [],
   "source": [
    "import pandas as pd"
   ]
  },
  {
   "cell_type": "code",
   "execution_count": 2,
   "id": "4c211876",
   "metadata": {},
   "outputs": [],
   "source": [
    "test_homes = pd.read_csv(r\"C:\\Users\\luisp\\Downloads\\ml-challenge-2023-30412\\test_updated.csv\")\n",
    "pd.set_option('display.min_rows', 25)"
   ]
  },
  {
   "cell_type": "code",
   "execution_count": 9,
   "id": "9cf35480",
   "metadata": {},
   "outputs": [
    {
     "data": {
      "text/plain": [
       "id                         0\n",
       "balcony                 6732\n",
       "conditions               511\n",
       "construction_year       5964\n",
       "latitude                  10\n",
       "longitude                 10\n",
       "energy_efficiency       8570\n",
       "expenses                6971\n",
       "floor                    876\n",
       "garden                 13443\n",
       "n_bathrooms              951\n",
       "elevator                7455\n",
       "total_floors            7938\n",
       "n_rooms                  141\n",
       "proximity_to_center       10\n",
       "surface                  163\n",
       "dtype: int64"
      ]
     },
     "execution_count": 9,
     "metadata": {},
     "output_type": "execute_result"
    }
   ],
   "source": [
    "test_homes.isna().sum()"
   ]
  },
  {
   "cell_type": "code",
   "execution_count": 10,
   "id": "c895b19f",
   "metadata": {},
   "outputs": [],
   "source": [
    "test_homes = test_homes.drop([\"energy_efficiency\", \"construction_year\", \"floor\", \"total_floors\"], axis = 1)"
   ]
  },
  {
   "cell_type": "code",
   "execution_count": 12,
   "id": "717d22a9",
   "metadata": {},
   "outputs": [
    {
     "data": {
      "text/plain": [
       "Index(['id', 'balcony', 'conditions', 'latitude', 'longitude', 'expenses',\n",
       "       'garden', 'n_bathrooms', 'elevator', 'n_rooms', 'proximity_to_center',\n",
       "       'surface'],\n",
       "      dtype='object')"
      ]
     },
     "execution_count": 12,
     "metadata": {},
     "output_type": "execute_result"
    }
   ],
   "source": [
    "test_homes.columns"
   ]
  }
 ],
 "metadata": {
  "kernelspec": {
   "display_name": "Python 3 (ipykernel)",
   "language": "python",
   "name": "python3"
  },
  "language_info": {
   "codemirror_mode": {
    "name": "ipython",
    "version": 3
   },
   "file_extension": ".py",
   "mimetype": "text/x-python",
   "name": "python",
   "nbconvert_exporter": "python",
   "pygments_lexer": "ipython3",
   "version": "3.10.9"
  }
 },
 "nbformat": 4,
 "nbformat_minor": 5
}
