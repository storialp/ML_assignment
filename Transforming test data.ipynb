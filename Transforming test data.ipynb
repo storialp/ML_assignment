{
 "cells": [
  {
   "cell_type": "code",
   "execution_count": 28,
   "id": "4220632a",
   "metadata": {},
   "outputs": [],
   "source": [
    "import pandas as pd\n",
    "from sklearn.preprocessing import OneHotEncoder\n",
    "from sklearn.pipeline import Pipeline\n",
    "from sklearn.compose import ColumnTransformer\n",
    "from sklearn.preprocessing import MinMaxScaler\n",
    "ohe = OneHotEncoder(handle_unknown='ignore')\n",
    "categorical_processing = Pipeline(steps=[('ohe', ohe)])\n",
    "preprocessing = ColumnTransformer(transformers=[('categorical', categorical_processing, ['conditions'])],\n",
    "                                  remainder='passthrough')\n",
    "scaler = MinMaxScaler()\n",
    "pd.set_option('display.min_rows', 25)"
   ]
  },
  {
   "cell_type": "code",
   "execution_count": 29,
   "id": "b9d0d54c",
   "metadata": {},
   "outputs": [],
   "source": [
    "test = pd.read_csv(r'C:\\Users\\luisp\\Downloads\\ml-challenge-2023-30412\\test_updated.csv')"
   ]
  },
  {
   "cell_type": "code",
   "execution_count": 30,
   "id": "83728b0f",
   "metadata": {},
   "outputs": [
    {
     "data": {
      "text/plain": [
       "Index(['id', 'balcony', 'conditions', 'construction_year', 'latitude',\n",
       "       'longitude', 'energy_efficiency', 'expenses', 'floor', 'garden',\n",
       "       'n_bathrooms', 'elevator', 'total_floors', 'n_rooms',\n",
       "       'proximity_to_center', 'surface'],\n",
       "      dtype='object')"
      ]
     },
     "execution_count": 30,
     "metadata": {},
     "output_type": "execute_result"
    }
   ],
   "source": [
    "test.columns"
   ]
  },
  {
   "cell_type": "code",
   "execution_count": 31,
   "id": "4908a29f",
   "metadata": {},
   "outputs": [],
   "source": [
    "test_ids = test[\"id\"]"
   ]
  },
  {
   "cell_type": "code",
   "execution_count": 32,
   "id": "edf315cf",
   "metadata": {},
   "outputs": [],
   "source": [
    "test = test.drop(['construction_year', 'energy_efficiency', 'floor', 'garden',\n",
    "       'total_floors', 'id'], axis=1)"
   ]
  },
  {
   "cell_type": "code",
   "execution_count": 33,
   "id": "948d22be",
   "metadata": {},
   "outputs": [
    {
     "data": {
      "text/plain": [
       "Index(['balcony', 'conditions', 'latitude', 'longitude', 'expenses',\n",
       "       'n_bathrooms', 'elevator', 'n_rooms', 'proximity_to_center', 'surface'],\n",
       "      dtype='object')"
      ]
     },
     "execution_count": 33,
     "metadata": {},
     "output_type": "execute_result"
    }
   ],
   "source": [
    "test.columns"
   ]
  },
  {
   "cell_type": "code",
   "execution_count": 36,
   "id": "fe293080",
   "metadata": {},
   "outputs": [],
   "source": [
    "test['balcony'] = test['balcony'].fillna(False)\n",
    "test['balcony'] = test['balcony'].replace({True: 1, False: 0}) "
   ]
  },
  {
   "cell_type": "code",
   "execution_count": 54,
   "id": "dfd2153f",
   "metadata": {},
   "outputs": [
    {
     "data": {
      "text/plain": [
       "balcony                0\n",
       "conditions             0\n",
       "latitude               0\n",
       "longitude              0\n",
       "expenses               0\n",
       "n_bathrooms            0\n",
       "elevator               0\n",
       "n_rooms                0\n",
       "proximity_to_center    0\n",
       "surface                0\n",
       "dtype: int64"
      ]
     },
     "execution_count": 54,
     "metadata": {},
     "output_type": "execute_result"
    }
   ],
   "source": [
    "test.isna().sum()"
   ]
  },
  {
   "cell_type": "code",
   "execution_count": 39,
   "id": "0e56c13a",
   "metadata": {},
   "outputs": [],
   "source": [
    "test['conditions'] = test['conditions'].fillna(\"Buono stato / Abitabile\")"
   ]
  },
  {
   "cell_type": "code",
   "execution_count": 41,
   "id": "65ad7dd4",
   "metadata": {},
   "outputs": [],
   "source": [
    "test[\"elevator\"] = test[\"elevator\"].fillna(1)"
   ]
  },
  {
   "cell_type": "code",
   "execution_count": 44,
   "id": "2358c93c",
   "metadata": {},
   "outputs": [],
   "source": [
    "test['n_bathrooms'] = test['n_bathrooms'].fillna(1)\n",
    "test[\"n_rooms\"] = test[\"n_rooms\"].fillna(3)"
   ]
  },
  {
   "cell_type": "code",
   "execution_count": 46,
   "id": "7ad9080c",
   "metadata": {},
   "outputs": [],
   "source": [
    "test[\"surface\"] = test[\"surface\"].fillna(93)"
   ]
  },
  {
   "cell_type": "code",
   "execution_count": 48,
   "id": "b02f9360",
   "metadata": {},
   "outputs": [],
   "source": [
    "test[\"proximity_to_center\"] = test[\"proximity_to_center\"].fillna(1)"
   ]
  },
  {
   "cell_type": "code",
   "execution_count": 50,
   "id": "89e0f959",
   "metadata": {},
   "outputs": [],
   "source": [
    "test[\"expenses\"] = test[\"expenses\"].fillna(80)"
   ]
  },
  {
   "cell_type": "code",
   "execution_count": 53,
   "id": "1c39b351",
   "metadata": {},
   "outputs": [],
   "source": [
    "test[\"latitude\"] = test[\"latitude\"].fillna(41.974395)\n",
    "test[\"longitude\"] = test[\"longitude\"].fillna(12.356400)"
   ]
  },
  {
   "cell_type": "code",
   "execution_count": 56,
   "id": "ecfbf482",
   "metadata": {},
   "outputs": [
    {
     "ename": "NotFittedError",
     "evalue": "This ColumnTransformer instance is not fitted yet. Call 'fit' with appropriate arguments before using this estimator.",
     "output_type": "error",
     "traceback": [
      "\u001b[1;31m---------------------------------------------------------------------------\u001b[0m",
      "\u001b[1;31mNotFittedError\u001b[0m                            Traceback (most recent call last)",
      "Cell \u001b[1;32mIn[56], line 1\u001b[0m\n\u001b[1;32m----> 1\u001b[0m test \u001b[38;5;241m=\u001b[39m \u001b[43mpreprocessing\u001b[49m\u001b[38;5;241;43m.\u001b[39;49m\u001b[43mtransform\u001b[49m\u001b[43m(\u001b[49m\u001b[43mtest\u001b[49m\u001b[43m)\u001b[49m\n",
      "File \u001b[1;32m~\\anaconda3\\lib\\site-packages\\sklearn\\utils\\_set_output.py:142\u001b[0m, in \u001b[0;36m_wrap_method_output.<locals>.wrapped\u001b[1;34m(self, X, *args, **kwargs)\u001b[0m\n\u001b[0;32m    140\u001b[0m \u001b[38;5;129m@wraps\u001b[39m(f)\n\u001b[0;32m    141\u001b[0m \u001b[38;5;28;01mdef\u001b[39;00m \u001b[38;5;21mwrapped\u001b[39m(\u001b[38;5;28mself\u001b[39m, X, \u001b[38;5;241m*\u001b[39margs, \u001b[38;5;241m*\u001b[39m\u001b[38;5;241m*\u001b[39mkwargs):\n\u001b[1;32m--> 142\u001b[0m     data_to_wrap \u001b[38;5;241m=\u001b[39m f(\u001b[38;5;28mself\u001b[39m, X, \u001b[38;5;241m*\u001b[39margs, \u001b[38;5;241m*\u001b[39m\u001b[38;5;241m*\u001b[39mkwargs)\n\u001b[0;32m    143\u001b[0m     \u001b[38;5;28;01mif\u001b[39;00m \u001b[38;5;28misinstance\u001b[39m(data_to_wrap, \u001b[38;5;28mtuple\u001b[39m):\n\u001b[0;32m    144\u001b[0m         \u001b[38;5;66;03m# only wrap the first output for cross decomposition\u001b[39;00m\n\u001b[0;32m    145\u001b[0m         \u001b[38;5;28;01mreturn\u001b[39;00m (\n\u001b[0;32m    146\u001b[0m             _wrap_data_with_container(method, data_to_wrap[\u001b[38;5;241m0\u001b[39m], X, \u001b[38;5;28mself\u001b[39m),\n\u001b[0;32m    147\u001b[0m             \u001b[38;5;241m*\u001b[39mdata_to_wrap[\u001b[38;5;241m1\u001b[39m:],\n\u001b[0;32m    148\u001b[0m         )\n",
      "File \u001b[1;32m~\\anaconda3\\lib\\site-packages\\sklearn\\compose\\_column_transformer.py:770\u001b[0m, in \u001b[0;36mColumnTransformer.transform\u001b[1;34m(self, X)\u001b[0m\n\u001b[0;32m    753\u001b[0m \u001b[38;5;28;01mdef\u001b[39;00m \u001b[38;5;21mtransform\u001b[39m(\u001b[38;5;28mself\u001b[39m, X):\n\u001b[0;32m    754\u001b[0m     \u001b[38;5;124;03m\"\"\"Transform X separately by each transformer, concatenate results.\u001b[39;00m\n\u001b[0;32m    755\u001b[0m \n\u001b[0;32m    756\u001b[0m \u001b[38;5;124;03m    Parameters\u001b[39;00m\n\u001b[1;32m   (...)\u001b[0m\n\u001b[0;32m    768\u001b[0m \u001b[38;5;124;03m        sparse matrices.\u001b[39;00m\n\u001b[0;32m    769\u001b[0m \u001b[38;5;124;03m    \"\"\"\u001b[39;00m\n\u001b[1;32m--> 770\u001b[0m     \u001b[43mcheck_is_fitted\u001b[49m\u001b[43m(\u001b[49m\u001b[38;5;28;43mself\u001b[39;49m\u001b[43m)\u001b[49m\n\u001b[0;32m    771\u001b[0m     X \u001b[38;5;241m=\u001b[39m _check_X(X)\n\u001b[0;32m    773\u001b[0m     fit_dataframe_and_transform_dataframe \u001b[38;5;241m=\u001b[39m \u001b[38;5;28mhasattr\u001b[39m(\n\u001b[0;32m    774\u001b[0m         \u001b[38;5;28mself\u001b[39m, \u001b[38;5;124m\"\u001b[39m\u001b[38;5;124mfeature_names_in_\u001b[39m\u001b[38;5;124m\"\u001b[39m\n\u001b[0;32m    775\u001b[0m     ) \u001b[38;5;129;01mand\u001b[39;00m \u001b[38;5;28mhasattr\u001b[39m(X, \u001b[38;5;124m\"\u001b[39m\u001b[38;5;124mcolumns\u001b[39m\u001b[38;5;124m\"\u001b[39m)\n",
      "File \u001b[1;32m~\\anaconda3\\lib\\site-packages\\sklearn\\utils\\validation.py:1390\u001b[0m, in \u001b[0;36mcheck_is_fitted\u001b[1;34m(estimator, attributes, msg, all_or_any)\u001b[0m\n\u001b[0;32m   1385\u001b[0m     fitted \u001b[38;5;241m=\u001b[39m [\n\u001b[0;32m   1386\u001b[0m         v \u001b[38;5;28;01mfor\u001b[39;00m v \u001b[38;5;129;01min\u001b[39;00m \u001b[38;5;28mvars\u001b[39m(estimator) \u001b[38;5;28;01mif\u001b[39;00m v\u001b[38;5;241m.\u001b[39mendswith(\u001b[38;5;124m\"\u001b[39m\u001b[38;5;124m_\u001b[39m\u001b[38;5;124m\"\u001b[39m) \u001b[38;5;129;01mand\u001b[39;00m \u001b[38;5;129;01mnot\u001b[39;00m v\u001b[38;5;241m.\u001b[39mstartswith(\u001b[38;5;124m\"\u001b[39m\u001b[38;5;124m__\u001b[39m\u001b[38;5;124m\"\u001b[39m)\n\u001b[0;32m   1387\u001b[0m     ]\n\u001b[0;32m   1389\u001b[0m \u001b[38;5;28;01mif\u001b[39;00m \u001b[38;5;129;01mnot\u001b[39;00m fitted:\n\u001b[1;32m-> 1390\u001b[0m     \u001b[38;5;28;01mraise\u001b[39;00m NotFittedError(msg \u001b[38;5;241m%\u001b[39m {\u001b[38;5;124m\"\u001b[39m\u001b[38;5;124mname\u001b[39m\u001b[38;5;124m\"\u001b[39m: \u001b[38;5;28mtype\u001b[39m(estimator)\u001b[38;5;241m.\u001b[39m\u001b[38;5;18m__name__\u001b[39m})\n",
      "\u001b[1;31mNotFittedError\u001b[0m: This ColumnTransformer instance is not fitted yet. Call 'fit' with appropriate arguments before using this estimator."
     ]
    }
   ],
   "source": [
    "test = preprocessing.transform(test)"
   ]
  }
 ],
 "metadata": {
  "kernelspec": {
   "display_name": "Python 3 (ipykernel)",
   "language": "python",
   "name": "python3"
  },
  "language_info": {
   "codemirror_mode": {
    "name": "ipython",
    "version": 3
   },
   "file_extension": ".py",
   "mimetype": "text/x-python",
   "name": "python",
   "nbconvert_exporter": "python",
   "pygments_lexer": "ipython3",
   "version": "3.10.9"
  }
 },
 "nbformat": 4,
 "nbformat_minor": 5
}
